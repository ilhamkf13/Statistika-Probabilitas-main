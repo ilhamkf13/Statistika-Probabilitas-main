{
 "cells": [
  {
   "cell_type": "markdown",
   "metadata": {},
   "source": [
    "Latihan 1\n",
    "\n",
    "Dalam suatu laporan oleh peneliti, dinyatakan bahwa tikus yang semula mempunyai jangka hidup rata-rata 32 bulan dapat diperpanjang menjadi 40 bulan bila 40% kalori dalam makanannya diganti dengan protein dan vitamin. Apakah ada alasan untuk mempercayai bahwa µ < 40 bila 64 ekor tikus dicobakan dalam penelitian ini agar mencapai jangka hidup rata-rata 38 bulan dengan simpang baku 5,8 bulan? Gunakan taraf nyata 0,025"
   ]
  },
  {
   "cell_type": "code",
   "execution_count": 1,
   "metadata": {},
   "outputs": [
    {
     "name": "stdout",
     "output_type": "stream",
     "text": [
      "Nilai z :  -2.7586206896551726\n",
      "Nilai z kritis :  -1.9599639845400545\n",
      "Keputusan: Tolak hipotesis nol (H0).\n"
     ]
    }
   ],
   "source": [
    "from scipy.stats import norm\n",
    "\n",
    "meanSample = 38\n",
    "H0 = 40\n",
    "simpanganBaku = 5.8\n",
    "n = 64\n",
    "alpha = 0.025\n",
    "\n",
    "zScore = (meanSample - H0) / (simpanganBaku / (n ** 0.5))\n",
    "zCritical = norm.ppf(alpha)\n",
    "\n",
    "print(\"Nilai z : \", zScore)\n",
    "print(\"Nilai z kritis : \", zCritical)\n",
    "\n",
    "if zScore < zCritical:\n",
    "    print(\"Keputusan: Tolak hipotesis nol (H0).\")\n",
    "else:\n",
    "    print(\"Keputusan: Gagal menolak hipotesis nol (H0).\")"
   ]
  },
  {
   "cell_type": "markdown",
   "metadata": {},
   "source": [
    "Latihan 2\n",
    "Ujilah hipotesis bahwa isi kaleng rata-rata suatu jenis minyak pelumas adalah 10 liter. Apabila isi suatu contoh acak 10 kaleng adalah 10.2, 9.7, 10.1, 10.3, 10.1, 9.8, 9.9, 10.4, 10.3, dan 9.8 liter. Gunakan taraf nyata 0.01 dan asumsikan bahwa isi terrsebut menyebar normal."
   ]
  },
  {
   "cell_type": "code",
   "execution_count": 2,
   "metadata": {},
   "outputs": [
    {
     "name": "stdout",
     "output_type": "stream",
     "text": [
      "Nilai t: 0.771743633141273\n",
      "Nilai t kritis: 3.2498355440153697\n",
      "Keputusan: Gagal menolak hipotesis nol (H0).\n"
     ]
    }
   ],
   "source": [
    "import numpy as np\n",
    "from scipy.stats import t\n",
    "\n",
    "sampleData = np.array([10.2, 9.7, 10.1, 10.3, 10.1, 9.8, 9.9, 10.4, 10.3, 9.8])\n",
    "H0 = 10\n",
    "n = len(sampleData)\n",
    "alpha = 0.01\n",
    "\n",
    "meanSample = np.mean(sampleData)\n",
    "stdSample = np.std(sampleData, ddof=1)\n",
    "\n",
    "tScore = (meanSample - H0) / (stdSample / np.sqrt(n))\n",
    "tCritical = t.ppf(1 - alpha / 2, df = n-1)\n",
    "\n",
    "print(f\"Nilai t: {tScore}\")\n",
    "print(f\"Nilai t kritis: {tCritical}\")\n",
    "\n",
    "if abs(tScore) > tCritical:\n",
    "    print(\"Keputusan: Tolak hipotesis nol (H0).\")\n",
    "else:\n",
    "    print(\"Keputusan: Gagal menolak hipotesis nol (H0).\")"
   ]
  },
  {
   "cell_type": "markdown",
   "metadata": {},
   "source": [
    "Latihan 3\n",
    "\n",
    "Menurut penelitian konsumsi sodium yang tinggi mungkin berhubungan dengan sakit bisul, kanker perut, dan sakit kepala. Manusia membutuhkan garam hanya 220 milligram per hari dan ini sudah dilampaui oleh kandungan satu porsi sereal siap makan. Apabila suatu contoh acak 20 porsi sereal mempunyai kandungan sodium rata-rata 244 milligram dengan simpangan baku 24,5 milligram apakah ini menunjukkan pada taraf nyata 0,05 bahwa kandungan sodium rata-rata satu porsi sereal lebih daripada 220 milligram? Asumsikan bahwa sebaran kandungan sodium adalah normal"
   ]
  },
  {
   "cell_type": "code",
   "execution_count": 3,
   "metadata": {},
   "outputs": [
    {
     "name": "stdout",
     "output_type": "stream",
     "text": [
      "Nilai t: 4.380867874285302\n",
      "Nilai t kritis: 1.729132811521367\n",
      "Keputusan: Tolak hipotesis nol (H0).\n"
     ]
    }
   ],
   "source": [
    "from scipy.stats import t\n",
    "\n",
    "meanSample = 244\n",
    "H0 = 220\n",
    "stdSample = 24.5\n",
    "n = 20\n",
    "alpha = 0.05\n",
    "\n",
    "tScore = (meanSample - H0) / (stdSample / (n ** 0.5))\n",
    "tCritical = t.ppf(1 - alpha, df= n-1)\n",
    "\n",
    "print(f\"Nilai t: {tScore}\")\n",
    "print(f\"Nilai t kritis: {tCritical}\")\n",
    "\n",
    "if tScore > tCritical:\n",
    "    print(\"Keputusan: Tolak hipotesis nol (H0).\")\n",
    "else:\n",
    "    print(\"Keputusan: Gagal menolak hipotesis nol (H0).\")"
   ]
  },
  {
   "cell_type": "markdown",
   "metadata": {},
   "source": [
    "Latihan 4\n",
    "\n",
    "Sebuah perusahaan menyatakan bahwa kekuatan rentangan rata-rata tali A melebihi kekuatan rentangan tali B sebesar sekurang-kurangnya 12 kg. Untuk diuji pernyataan ini, 50 tali dari masing-masing jenis diuji dibawah kondisi yang sama. Hasil uji menunjukkan tali A mempunyai kekuatan rentangan rata-rata 86,7 kg dengan simpangan baku 6,28 kg, sedangkan tali B mempunyai kekuatan rentangan rata-rata 77,8 kg dengan simpangan baku 5,61 kg. Ujilah pernyataan perusahaan tersebut dengan menggunakan taraf nyata 0,05"
   ]
  },
  {
   "cell_type": "code",
   "execution_count": 4,
   "metadata": {},
   "outputs": [
    {
     "name": "stdout",
     "output_type": "stream",
     "text": [
      "Nilai t: -2.603103416514782\n",
      "Nilai t kritis: 1.660751252563535\n",
      "Keputusan: Gagal menolak hipotesis nol (H0).\n"
     ]
    }
   ],
   "source": [
    "import numpy as np\n",
    "from scipy.stats import t\n",
    "\n",
    "meanSampleA = 86.7  \n",
    "meanSampleB = 77.8  \n",
    "stdSampleA = 6.28   \n",
    "stdSampleB = 5.61   \n",
    "n_A = 50       \n",
    "n_B = 50       \n",
    "alpha = 0.05   \n",
    "\n",
    "tScore = (meanSampleA - meanSampleB - 12) / np.sqrt((stdSampleA**2 / n_A) + (stdSampleB**2 / n_B))\n",
    "\n",
    "df = ((stdSampleA**2 / n_A + stdSampleB**2 / n_B) ** 2) / \\\n",
    "     (( (stdSampleA**2 / n_A) **2 / (n_A - 1)) + ((stdSampleB**2 / n_B) **2 / (n_B - 1)))\n",
    "\n",
    "tCritical = t.ppf(1 - alpha, df=df)\n",
    "\n",
    "print(f\"Nilai t: {tScore}\")\n",
    "print(f\"Nilai t kritis: {tCritical}\")\n",
    "\n",
    "if tScore > tCritical:\n",
    "    print(\"Keputusan: Tolak hipotesis nol (H0).\")\n",
    "else:\n",
    "    print(\"Keputusan: Gagal menolak hipotesis nol (H0).\")\n"
   ]
  }
 ],
 "metadata": {
  "kernelspec": {
   "display_name": "base",
   "language": "python",
   "name": "python3"
  },
  "language_info": {
   "codemirror_mode": {
    "name": "ipython",
    "version": 3
   },
   "file_extension": ".py",
   "mimetype": "text/x-python",
   "name": "python",
   "nbconvert_exporter": "python",
   "pygments_lexer": "ipython3",
   "version": "3.11.4"
  }
 },
 "nbformat": 4,
 "nbformat_minor": 2
}
